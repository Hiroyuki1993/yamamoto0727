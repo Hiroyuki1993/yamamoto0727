{
 "cells": [
  {
   "cell_type": "code",
   "execution_count": 6,
   "metadata": {},
   "outputs": [],
   "source": [
    "from gensim.models import word2vec"
   ]
  },
  {
   "cell_type": "code",
   "execution_count": 7,
   "metadata": {},
   "outputs": [
    {
     "name": "stderr",
     "output_type": "stream",
     "text": [
      "2018-07-25 12:11:47,894 : INFO : loading Word2Vec object from /home/hiroyuki/Documents/shiroyagi/word2vec.gensim.model\n",
      "2018-07-25 12:11:49,103 : INFO : loading wv recursively from /home/hiroyuki/Documents/shiroyagi/word2vec.gensim.model.wv.* with mmap=None\n",
      "2018-07-25 12:11:49,105 : INFO : loading syn0 from /home/hiroyuki/Documents/shiroyagi/word2vec.gensim.model.wv.syn0.npy with mmap=None\n",
      "2018-07-25 12:11:49,581 : INFO : loading syn1neg from /home/hiroyuki/Documents/shiroyagi/word2vec.gensim.model.syn1neg.npy with mmap=None\n",
      "2018-07-25 12:11:50,114 : INFO : Model saved using code from earlier Gensim Version. Re-loading old model in a compatible way.\n",
      "2018-07-25 12:11:50,115 : INFO : loading Word2Vec object from /home/hiroyuki/Documents/shiroyagi/word2vec.gensim.model\n",
      "2018-07-25 12:11:51,166 : INFO : loading wv recursively from /home/hiroyuki/Documents/shiroyagi/word2vec.gensim.model.wv.* with mmap=None\n",
      "2018-07-25 12:11:51,167 : INFO : loading syn0 from /home/hiroyuki/Documents/shiroyagi/word2vec.gensim.model.wv.syn0.npy with mmap=None\n",
      "2018-07-25 12:11:51,210 : INFO : loading syn1neg from /home/hiroyuki/Documents/shiroyagi/word2vec.gensim.model.syn1neg.npy with mmap=None\n",
      "2018-07-25 12:11:51,248 : INFO : setting ignored attribute syn0norm to None\n",
      "2018-07-25 12:11:51,249 : INFO : setting ignored attribute cum_table to None\n",
      "2018-07-25 12:11:51,251 : INFO : loaded /home/hiroyuki/Documents/shiroyagi/word2vec.gensim.model\n",
      "2018-07-25 12:11:52,310 : WARNING : consider setting layer size to a multiple of 4 for greater performance\n"
     ]
    }
   ],
   "source": [
    "model = word2vec.Word2Vec.load(\"/home/hiroyuki/Documents/shiroyagi/word2vec.gensim.model\")"
   ]
  },
  {
   "cell_type": "code",
   "execution_count": 27,
   "metadata": {},
   "outputs": [
    {
     "data": {
      "text/plain": [
       "[('モデリング', 1.2480196e-05),\n",
       " ('通信', 1.0773695e-05),\n",
       " ('コンピュータ', 1.0707237e-05),\n",
       " ('リソース', 1.0698263e-05),\n",
       " ('ソフトウェア', 1.0343054e-05),\n",
       " ('デバイス', 1.0269234e-05),\n",
       " ('モニタ', 9.470952e-06),\n",
       " ('アニメーション', 9.358309e-06),\n",
       " ('計算機', 9.3000435e-06),\n",
       " ('物理', 9.212982e-06)]"
      ]
     },
     "execution_count": 27,
     "metadata": {},
     "output_type": "execute_result"
    }
   ],
   "source": [
    "model.predict_output_word([\"コンピュータ\"])"
   ]
  },
  {
   "cell_type": "code",
   "execution_count": 24,
   "metadata": {},
   "outputs": [
    {
     "data": {
      "text/plain": [
       "[('寄宿舎', 0.8457502722740173),\n",
       " ('私立学校', 0.8151288032531738),\n",
       " ('盲学校', 0.8150694370269775),\n",
       " ('私立校', 0.8143993616104126),\n",
       " ('実業学校', 0.7982680201530457),\n",
       " ('教員', 0.7914607524871826),\n",
       " ('生徒', 0.7909166812896729),\n",
       " ('旧制中学校', 0.7897166013717651),\n",
       " ('寮', 0.783943235874176),\n",
       " ('教師', 0.7798990607261658)]"
      ]
     },
     "execution_count": 24,
     "metadata": {},
     "output_type": "execute_result"
    }
   ],
   "source": [
    "model.wv.most_similar(\"学校\")"
   ]
  },
  {
   "cell_type": "code",
   "execution_count": 25,
   "metadata": {},
   "outputs": [
    {
     "data": {
      "text/plain": [
       "[('私生児', 0.8244340419769287),\n",
       " ('アナスタシア', 0.824203372001648),\n",
       " ('娘', 0.8208393454551697),\n",
       " ('ゾフィー', 0.8165625333786011),\n",
       " ('愛妾', 0.8157733678817749),\n",
       " ('ユリア', 0.8146647810935974),\n",
       " ('最愛', 0.8137654066085815),\n",
       " ('婚約者', 0.8109151124954224),\n",
       " ('一人娘', 0.8108315467834473),\n",
       " ('妻', 0.8093811869621277)]"
      ]
     },
     "execution_count": 25,
     "metadata": {},
     "output_type": "execute_result"
    }
   ],
   "source": [
    "model.wv.most_similar(positive=[\"母親\", \"息子\"], negative=[\"父親\"])"
   ]
  },
  {
   "cell_type": "code",
   "execution_count": 26,
   "metadata": {},
   "outputs": [
    {
     "data": {
      "text/plain": [
       "'ハンバーグ'"
      ]
     },
     "execution_count": 26,
     "metadata": {},
     "output_type": "execute_result"
    }
   ],
   "source": [
    "model.wv.doesnt_match([\"日本\", \"韓国\", \"ハンバーグ\", \"アメリカ\"])"
   ]
  },
  {
   "cell_type": "code",
   "execution_count": 14,
   "metadata": {},
   "outputs": [
    {
     "data": {
      "text/plain": [
       "array([-0.08019581, -0.10632093,  0.14115061,  0.08310905, -0.00913872,\n",
       "        0.04414612, -0.11600631, -0.35167393,  0.04924094,  0.07659911,\n",
       "        0.07906264,  0.02693196,  0.03977293,  0.19168071, -0.16376053,\n",
       "       -0.01040754, -0.13442372,  0.20567688, -0.04850557, -0.22208223,\n",
       "        0.03354846, -0.18884456, -0.00623878, -0.12064678, -0.01325125,\n",
       "        0.02779626,  0.02936541,  0.06843039,  0.11489733,  0.07094222,\n",
       "        0.14459857, -0.12487161,  0.03558656,  0.41905314, -0.15021588,\n",
       "       -0.12890314,  0.04594489, -0.28921965,  0.15588439, -0.01789199,\n",
       "       -0.2866291 , -0.1415011 ,  0.057166  , -0.19496612,  0.09121747,\n",
       "        0.01317389, -0.0359673 ,  0.16124834, -0.03846167, -0.06273678],\n",
       "      dtype=float32)"
      ]
     },
     "execution_count": 14,
     "metadata": {},
     "output_type": "execute_result"
    }
   ],
   "source": [
    "model.wv[\"日本\"]"
   ]
  },
  {
   "cell_type": "code",
   "execution_count": null,
   "metadata": {},
   "outputs": [],
   "source": []
  }
 ],
 "metadata": {
  "kernelspec": {
   "display_name": "Python 3",
   "language": "python",
   "name": "python3"
  },
  "language_info": {
   "codemirror_mode": {
    "name": "ipython",
    "version": 3
   },
   "file_extension": ".py",
   "mimetype": "text/x-python",
   "name": "python",
   "nbconvert_exporter": "python",
   "pygments_lexer": "ipython3",
   "version": "3.6.4"
  }
 },
 "nbformat": 4,
 "nbformat_minor": 2
}
